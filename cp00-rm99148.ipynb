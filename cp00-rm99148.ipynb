{
 "cells": [
  {
   "cell_type": "markdown",
   "metadata": {},
   "source": [
    "FIAP - Engenharia de Software 2ESPW\n",
    "<br>\n",
    "CP00 - Dynamic Programming\n",
    "<br>\n",
    "André Lambert - RM 99148"
   ]
  },
  {
   "cell_type": "markdown",
   "metadata": {},
   "source": [
    "Gere uma lista com os tipos (‘types’) dos trabalhos ali presentes. \n",
    "Dessa  lista,  precisamos  saber  quanto  de  cada  tipo  há. \n",
    "Adicionalmente, precisamos saber qual  é  o que  possui maior \n",
    "quantidade, assim como o de menor quantidade."
   ]
  },
  {
   "cell_type": "code",
   "execution_count": 7,
   "metadata": {},
   "outputs": [],
   "source": [
    "import pandas as pd\n",
    "import matplotlib.pyplot as plt\n",
    "from collections import Counter"
   ]
  },
  {
   "cell_type": "code",
   "execution_count": 8,
   "metadata": {},
   "outputs": [
    {
     "name": "stdout",
     "output_type": "stream",
     "text": [
      "O tipo com mais conteúdo é Movie com 6131 conteúdos\n",
      "O tipo com menos conteúdo é TV Show com 2676 conteúdos\n",
      "O número total de tipos é 2\n",
      "\n",
      "Lista de tipos de conteúdo e suas quantidades:\n",
      "      Tipo  Quantidade\n",
      "0    Movie        6131\n",
      "1  TV Show        2676\n"
     ]
    }
   ],
   "source": [
    "\n",
    "# Carregando o arquivo CSV\n",
    "baseNetflix = pd.read_csv('netflix_titles.csv')\n",
    "\n",
    "# Dividindo os valores na coluna 'type' e criando uma nova linha para cada tipo\n",
    "baseNetflix['type'] = baseNetflix['type'].str.split(', ')\n",
    "baseNetflix = baseNetflix.explode('type')\n",
    "\n",
    "# Contando o número de conteúdos para cada tipo\n",
    "contagem_tipos = baseNetflix['type'].value_counts()\n",
    "\n",
    "# Identificando o tipo com mais conteúdos\n",
    "tipo_max_contagem = contagem_tipos.idxmax()\n",
    "max_contagem = contagem_tipos.max()\n",
    "\n",
    "# Identificando o tipo com menos conteúdos\n",
    "tipo_min_contagem = contagem_tipos.idxmin()\n",
    "min_contagem = contagem_tipos.min()\n",
    "\n",
    "# Imprimindo os resultados\n",
    "print(f'O tipo com mais conteúdo é {tipo_max_contagem} com {max_contagem} conteúdos')\n",
    "print(f'O tipo com menos conteúdo é {tipo_min_contagem} com {min_contagem} conteúdos')\n",
    "print(f'O número total de tipos é {len(contagem_tipos)}')\n",
    "\n",
    "# Gere uma lista com os tipos de trabalhos presentes e suas quantidades\n",
    "lista_tipos_conteudo = contagem_tipos.reset_index()\n",
    "lista_tipos_conteudo.columns = ['Tipo', 'Quantidade']\n",
    "print('\\nLista de tipos de conteúdo e suas quantidades:')\n",
    "print(lista_tipos_conteudo)\n"
   ]
  },
  {
   "cell_type": "markdown",
   "metadata": {},
   "source": [
    "Execute  a  mesma  solução  para  o  campo  rating,  que  é  a \n",
    "classificação da adequabilidade para se assistir."
   ]
  },
  {
   "cell_type": "code",
   "execution_count": 9,
   "metadata": {},
   "outputs": [
    {
     "name": "stdout",
     "output_type": "stream",
     "text": [
      "A classificação com mais conteúdo é TV-MA com 3207 conteúdos\n",
      "A classificação com menos conteúdo é 74 min com 1 conteúdos\n",
      "O número total de classificações é 17\n",
      "\n",
      "Lista de classificações de conteúdo e suas quantidades:\n",
      "   Classificação  Quantidade\n",
      "0          TV-MA        3207\n",
      "1          TV-14        2160\n",
      "2          TV-PG         863\n",
      "3              R         799\n",
      "4          PG-13         490\n",
      "5          TV-Y7         334\n",
      "6           TV-Y         307\n",
      "7             PG         287\n",
      "8           TV-G         220\n",
      "9             NR          80\n",
      "10             G          41\n",
      "11      TV-Y7-FV           6\n",
      "12         NC-17           3\n",
      "13            UR           3\n",
      "14        74 min           1\n",
      "15        84 min           1\n",
      "16        66 min           1\n"
     ]
    }
   ],
   "source": [
    "# Dividindo os valores na coluna 'rating' e criando uma nova linha para cada classificação\n",
    "baseNetflix['rating'] = baseNetflix['rating'].str.split(', ')\n",
    "baseNetflix = baseNetflix.explode('rating')\n",
    "\n",
    "# Contando o número de conteúdos para cada classificação\n",
    "contagem_rating = baseNetflix['rating'].value_counts()\n",
    "\n",
    "# Identificando a classificação com mais conteúdos\n",
    "rating_max_contagem = contagem_rating.idxmax()\n",
    "max_contagem_rating = contagem_rating.max()\n",
    "\n",
    "# Identificando a classificação com menos conteúdos\n",
    "rating_min_contagem = contagem_rating.idxmin()\n",
    "min_contagem_rating = contagem_rating.min()\n",
    "\n",
    "# Imprimindo os resultados\n",
    "print(f'A classificação com mais conteúdo é {rating_max_contagem} com {max_contagem_rating} conteúdos')\n",
    "print(f'A classificação com menos conteúdo é {rating_min_contagem} com {min_contagem_rating} conteúdos')\n",
    "print(f'O número total de classificações é {len(contagem_rating)}')\n",
    "\n",
    "# Gere uma lista com as classificações de conteúdos presentes e suas quantidades\n",
    "lista_classificacoes = contagem_rating.reset_index()\n",
    "lista_classificacoes.columns = ['Classificação', 'Quantidade']\n",
    "print('\\nLista de classificações de conteúdo e suas quantidades:')\n",
    "print(lista_classificacoes)"
   ]
  },
  {
   "cell_type": "markdown",
   "metadata": {},
   "source": [
    "Sobre o campo ‘description’,  organize duas pilhas: uma com o \n",
    "quarto caractere e outra com o décimo-terceiro  caractere. Para \n",
    "cada uma dessas listas, indique qual o caractere mais frequente \n",
    "e o menos frequente. "
   ]
  },
  {
   "cell_type": "code",
   "execution_count": 10,
   "metadata": {},
   "outputs": [
    {
     "name": "stdout",
     "output_type": "stream",
     "text": [
      "Para o quarto caractere:\n",
      "Mais frequente: e, Frequência: 1481\n",
      "Menos frequente: \", Frequência: 1\n",
      "\n",
      "Para o décimo-terceiro caractere:\n",
      "Mais frequente:  , Frequência: 1273\n",
      "Menos frequente: Z, Frequência: 1\n"
     ]
    }
   ],
   "source": [
    "\n",
    "# Extraindo o quarto caractere e o décimo-terceiro caractere de cada descrição\n",
    "quarto_caractere = baseNetflix['description'].str[3]\n",
    "decimo_terceiro_caractere = baseNetflix['description'].str[12]\n",
    "\n",
    "# Contando a frequência de cada caractere nas pilhas\n",
    "frequencia_quarto = Counter(quarto_caractere)\n",
    "frequencia_decimo_terceiro = Counter(decimo_terceiro_caractere)\n",
    "\n",
    "# Encontrando o caractere mais frequente e o menos frequente para cada pilha\n",
    "mais_frequente_quarto = frequencia_quarto.most_common(1)[0]\n",
    "menos_frequente_quarto = frequencia_quarto.most_common()[-1]\n",
    "\n",
    "mais_frequente_decimo_terceiro = frequencia_decimo_terceiro.most_common(1)[0]\n",
    "menos_frequente_decimo_terceiro = frequencia_decimo_terceiro.most_common()[-1]\n",
    "\n",
    "# Imprimindo os resultados\n",
    "print(\"Para o quarto caractere:\")\n",
    "print(f\"Mais frequente: {mais_frequente_quarto[0]}, Frequência: {mais_frequente_quarto[1]}\")\n",
    "print(f\"Menos frequente: {menos_frequente_quarto[0]}, Frequência: {menos_frequente_quarto[1]}\")\n",
    "\n",
    "print(\"\\nPara o décimo-terceiro caractere:\")\n",
    "print(f\"Mais frequente: {mais_frequente_decimo_terceiro[0]}, Frequência: {mais_frequente_decimo_terceiro[1]}\")\n",
    "print(f\"Menos frequente: {menos_frequente_decimo_terceiro[0]}, Frequência: {menos_frequente_decimo_terceiro[1]}\")\n"
   ]
  },
  {
   "cell_type": "markdown",
   "metadata": {},
   "source": [
    "Faça  uma  função  para  contar  quantos  caracteres  há  nesse \n",
    "campo ‘description’, em cada registro, e monte uma lista com as \n",
    "respectivas  somas.  Apresente  uma  distribuição  desses \n",
    "quantitativos."
   ]
  },
  {
   "cell_type": "code",
   "execution_count": 11,
   "metadata": {},
   "outputs": [
    {
     "data": {
      "image/png": "[encoded data removed]",
      "text/plain": [
       "<Figure size 640x480 with 1 Axes>"
      ]
     },
     "metadata": {},
     "output_type": "display_data"
    }
   ],
   "source": [
    "def count_description_chars(df):\n",
    "    description_lengths = [len(str(description)) for description in df['description']]\n",
    "    return description_lengths\n",
    "\n",
    "# Use a função para contar os caracteres no campo 'description'\n",
    "description_lengths = count_description_chars(baseNetflix)\n",
    "\n",
    "# Crie um histograma para visualizar a distribuição\n",
    "plt.hist(description_lengths, bins=50, edgecolor='black')\n",
    "plt.title('Distribuição do número de caracteres no campo \\'description\\'')\n",
    "plt.xlabel('Número de caracteres')\n",
    "plt.ylabel('Número de registros')\n",
    "plt.show()"
   ]
  }
 ],
 "metadata": {
  "kernelspec": {
   "display_name": "Python 3",
   "language": "python",
   "name": "python3"
  },
  "language_info": {
   "codemirror_mode": {
    "name": "ipython",
    "version": 3
   },
   "file_extension": ".py",
   "mimetype": "text/x-python",
   "name": "python",
   "nbconvert_exporter": "python",
   "pygments_lexer": "ipython3",
   "version": "3.12.2"
  }
 },
 "nbformat": 4,
 "nbformat_minor": 2
}
